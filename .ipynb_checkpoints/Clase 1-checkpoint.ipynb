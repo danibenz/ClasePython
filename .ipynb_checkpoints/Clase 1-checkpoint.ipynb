{
 "cells": [
  {
   "cell_type": "code",
   "execution_count": 2,
   "metadata": {},
   "outputs": [
    {
     "name": "stdout",
     "output_type": "stream",
     "text": [
      "Hola Mundo\n"
     ]
    }
   ],
   "source": [
    "print(\"Hola Mundo\")"
   ]
  },
  {
   "cell_type": "markdown",
   "metadata": {},
   "source": [
    "## Ejercicio 1: Clase 1"
   ]
  },
  {
   "cell_type": "markdown",
   "metadata": {},
   "source": [
    "if es una instrucción lógica que resuelve un problema de tipo booleano, forma part de lo que se denomina instrucciones condicionales"
   ]
  },
  {
   "cell_type": "code",
   "execution_count": 3,
   "metadata": {},
   "outputs": [
    {
     "name": "stdout",
     "output_type": "stream",
     "text": [
      "La persona No puede beber cerveza\n"
     ]
    }
   ],
   "source": [
    "## Ejercicio 1\n",
    "#Versión 1\n",
    "edad=17\n",
    "\n",
    "if edad>=18:\n",
    "    print(\"La persona si puede beber cerveza\")\n",
    "else:\n",
    "    print(\"La persona No puede beber cerveza\")\n"
   ]
  },
  {
   "cell_type": "code",
   "execution_count": 4,
   "metadata": {},
   "outputs": [
    {
     "name": "stdout",
     "output_type": "stream",
     "text": [
      "Señor usuario por favor ingrese su edad: 14\n",
      "La persona No puede beber cerveza\n"
     ]
    }
   ],
   "source": [
    "#Versión 2\n",
    "edad=int(input(\"Señor usuario por favor ingrese su edad: \")) \n",
    "if edad>=18:\n",
    "    print(\"La persona si puede beber cerveza\")\n",
    "else:\n",
    "    print(\"La persona No puede beber cerveza\")"
   ]
  },
  {
   "cell_type": "code",
   "execution_count": 6,
   "metadata": {},
   "outputs": [],
   "source": [
    "#Versión 3\n",
    "def ejercicio1 (edad):{\n",
    "    if edad>=18:\n",
    "        print(\"La persona si puede beber cerveza\")\n",
    "    else:\n",
    "        print(\"La persona No puede beber cerveza\")\n",
    "}"
   ]
  },
  {
   "cell_type": "code",
   "execution_count": 8,
   "metadata": {},
   "outputs": [
    {
     "name": "stdout",
     "output_type": "stream",
     "text": [
      "Señor usuario por favor ingrese su edad: 12\n",
      "La persona No puede beber cerveza\n"
     ]
    }
   ],
   "source": [
    "ejercicio1(int(input(\"Señor usuario por favor ingrese su edad: \")) )"
   ]
  },
  {
   "cell_type": "markdown",
   "metadata": {},
   "source": [
    "## Ejercicio 2"
   ]
  },
  {
   "cell_type": "code",
   "execution_count": 30,
   "metadata": {},
   "outputs": [
    {
     "name": "stdout",
     "output_type": "stream",
     "text": [
      "¿Cuál marca de cerveza desea comprar?: budweiser\n",
      "El cliente compra la cerveza budweiser\n"
     ]
    }
   ],
   "source": [
    "marca=input(\"¿Cuál marca de cerveza desea comprar?: \")\n",
    "if marca == 'budweiser':\n",
    "    print(\"El cliente compra la cerveza\",marca)\n",
    "elif marca == 'aguila':\n",
    "    print(\"El cliente compra la cerveza\",marca)\n",
    "elif marca == 'poker':\n",
    "    print(\"El cliente compra la cerveza\",marca)\n",
    "elif marca == 'redds':\n",
    "    print(\"El cliente compra la cerveza\",marca)\n",
    "else:\n",
    "    print(\"La tienda no tiene esa marca de cerveza, así que el cliente NO compra ninguna cerveza\")"
   ]
  },
  {
   "cell_type": "code",
   "execution_count": 31,
   "metadata": {},
   "outputs": [
    {
     "name": "stdout",
     "output_type": "stream",
     "text": [
      "¿Cuál marca de cerveza desea comprar?: redds\n",
      "redds\n",
      "REDDS\n",
      "El cliente compra la cerveza redds\n"
     ]
    }
   ],
   "source": [
    "marca=input(\"¿Cuál marca de cerveza desea comprar?: \")\n",
    "print(marca.lower()) #Minuscula\n",
    "print(marca.upper()) #Pasar a MAYUSCULA\n",
    "\n",
    "if marca.lower() == 'budweiser' :\n",
    "    print(\"El cliente compra la cerveza\",marca)\n",
    "elif marca.lower() == 'aguila':\n",
    "    print(\"El cliente compra la cerveza\",marca)\n",
    "elif marca.lower() == 'poker':\n",
    "    print(\"El cliente compra la cerveza\",marca)\n",
    "elif marca.lower() == 'redds':\n",
    "    print(\"El cliente compra la cerveza\",marca)\n",
    "else:\n",
    "    print(\"La tienda no tiene esa marca de cerveza, así que el cliente NO compra ninguna cerveza\")"
   ]
  },
  {
   "cell_type": "code",
   "execution_count": 32,
   "metadata": {},
   "outputs": [],
   "source": [
    "def ejercicio2():\n",
    "    marca=input(\"¿Cuál marca de cerveza desea comprar?: \")\n",
    "    print(marca.lower()) #Minuscula\n",
    "    #print(marca.upper()) #Pasar a MAYUSCULA\n",
    "    if marca.lower() == 'budweiser' :\n",
    "        print(\"El cliente compra la cerveza\",marca)\n",
    "    elif marca.lower() == 'aguila':\n",
    "        print(\"El cliente compra la cerveza\",marca)\n",
    "    elif marca.lower() == 'poker':\n",
    "        print(\"El cliente compra la cerveza\",marca)\n",
    "    elif marca.lower() == 'redds':\n",
    "        print(\"El cliente compra la cerveza\",marca)\n",
    "    else:\n",
    "        print(\"La tienda no tiene esa marca de cerveza, así que el cliente NO compra ninguna cerveza\")"
   ]
  },
  {
   "cell_type": "code",
   "execution_count": 34,
   "metadata": {},
   "outputs": [
    {
     "name": "stdout",
     "output_type": "stream",
     "text": [
      "¿Cuál marca de cerveza desea comprar?: corona\n",
      "corona\n",
      "La tienda no tiene esa marca de cerveza, así que el cliente NO compra ninguna cerveza\n"
     ]
    }
   ],
   "source": [
    "ejercicio2()"
   ]
  },
  {
   "cell_type": "code",
   "execution_count": 35,
   "metadata": {},
   "outputs": [
    {
     "name": "stdout",
     "output_type": "stream",
     "text": [
      "Hola mundo 2\n"
     ]
    }
   ],
   "source": [
    "print(\"Hola mundo 2\")"
   ]
  },
  {
   "cell_type": "code",
   "execution_count": null,
   "metadata": {},
   "outputs": [],
   "source": []
  }
 ],
 "metadata": {
  "kernelspec": {
   "display_name": "Python 3",
   "language": "python",
   "name": "python3"
  },
  "language_info": {
   "codemirror_mode": {
    "name": "ipython",
    "version": 3
   },
   "file_extension": ".py",
   "mimetype": "text/x-python",
   "name": "python",
   "nbconvert_exporter": "python",
   "pygments_lexer": "ipython3",
   "version": "3.8.3"
  }
 },
 "nbformat": 4,
 "nbformat_minor": 4
}
